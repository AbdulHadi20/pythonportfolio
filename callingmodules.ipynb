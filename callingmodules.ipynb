{
  "nbformat": 4,
  "nbformat_minor": 0,
  "metadata": {
    "colab": {
      "provenance": [],
      "authorship_tag": "ABX9TyPuGKvHAsiPIIlvsfyyZbVd",
      "include_colab_link": true
    },
    "kernelspec": {
      "name": "python3",
      "display_name": "Python 3"
    },
    "language_info": {
      "name": "python"
    }
  },
  "cells": [
    {
      "cell_type": "markdown",
      "metadata": {
        "id": "view-in-github",
        "colab_type": "text"
      },
      "source": [
        "<a href=\"https://colab.research.google.com/github/AbdulHadi20/pythonportfolio/blob/main/English_rhymes.ipynb\" target=\"_parent\"><img src=\"https://colab.research.google.com/assets/colab-badge.svg\" alt=\"Open In Colab\"/></a>"
      ]
    },
    {
      "cell_type": "code",
      "execution_count": 2,
      "metadata": {
        "colab": {
          "base_uri": "https://localhost:8080/"
        },
        "id": "z9EJXz4gswOX",
        "outputId": "3008e202-77d3-47b2-8f26-3efa03026e54"
      },
      "outputs": [
        {
          "output_type": "stream",
          "name": "stdout",
          "text": [
            "My favorite English Rhyme\n",
            " \n",
            "Twinkle twinkle little star\n",
            "How I wonder what you are\n",
            "Up about the world so high\n",
            "Like a diamond in the sky\n"
          ]
        }
      ],
      "source": [
        "print(\"My favorite English Rhyme\")\n",
        "print(\" \")\n",
        "print(\"Twinkle twinkle little star\")\n",
        "print(\"How I wonder what you are\")\n",
        "print(\"Up about the world so high\")\n",
        "print(\"Like a diamond in the sky\")"
      ]
    },
    {
      "cell_type": "code",
      "source": [
        "import sys\n",
        "print(\"Python version\")\n",
        "print(sys.version)\n",
        "\n",
        "print(\"Version info.\")\n",
        "print(sys.version_info)"
      ],
      "metadata": {
        "colab": {
          "base_uri": "https://localhost:8080/"
        },
        "id": "OD99MME4zuKs",
        "outputId": "08d51130-3307-4505-f54f-26ef9415ab05"
      },
      "execution_count": 3,
      "outputs": [
        {
          "output_type": "stream",
          "name": "stdout",
          "text": [
            "Python version\n",
            "3.7.14 (default, Sep  8 2022, 00:06:44) \n",
            "[GCC 7.5.0]\n",
            "Version info.\n",
            "sys.version_info(major=3, minor=7, micro=14, releaselevel='final', serial=0)\n"
          ]
        }
      ]
    },
    {
      "cell_type": "code",
      "source": [
        "from datetime import date\n",
        "\n",
        "today = date.today()\n",
        "print(\"Today's date\", today)"
      ],
      "metadata": {
        "colab": {
          "base_uri": "https://localhost:8080/"
        },
        "id": "KIx1qZNf1ZrN",
        "outputId": "7dc02b2c-8fe7-4936-af9c-304bc71bad60"
      },
      "execution_count": 4,
      "outputs": [
        {
          "output_type": "stream",
          "name": "stdout",
          "text": [
            "Today's date 2022-09-29\n"
          ]
        }
      ]
    },
    {
      "cell_type": "code",
      "source": [
        "from datetime import date\n",
        "\n",
        "today = date.today()\n",
        "\n",
        "#dd/mm/YY\n",
        "d1 = today.strftime(\"%d %m %Y\")\n",
        "print(\"d1 = \", d1)\n",
        "\n",
        "#textual month, day and year\n",
        "d2 = today.strftime(\"%B %d, %Y\")\n",
        "print(\"d2 = \", d2)\n",
        "\n",
        "#mm/dd/y\n",
        "d3 = today.strftime(\"%m %d %y\")\n",
        "print(\"d3 = \", d3)\n",
        "\n",
        "#month abbreviation, day and year\n",
        "d4 = today.strftime(\"%b - %d - %Y\")\n",
        "print(\"d4 = \", d4)"
      ],
      "metadata": {
        "colab": {
          "base_uri": "https://localhost:8080/"
        },
        "id": "JlJiGRt12jiC",
        "outputId": "62c9f0cf-c4a7-4693-d132-4ee5d3ea4808"
      },
      "execution_count": 9,
      "outputs": [
        {
          "output_type": "stream",
          "name": "stdout",
          "text": [
            "d1 =  29 09 2022\n",
            "d2 =  September 29, 2022\n",
            "d3 =  09 29 22\n",
            "d4 =  Sep - 29 - 2022\n"
          ]
        }
      ]
    },
    {
      "cell_type": "code",
      "source": [
        "from datetime import datetime\n",
        "\n",
        "#datetime object containing current date and time\n",
        "\n",
        "now = datetime.now()\n",
        "\n",
        "print(\"now = \", now)\n",
        "\n",
        "#dd/mm/YY H:M:S\n",
        "dt_string = now.strftime()"
      ],
      "metadata": {
        "colab": {
          "base_uri": "https://localhost:8080/"
        },
        "id": "8_eiG0i44Npg",
        "outputId": "42ec8f53-f3f7-4c7c-81cf-4dcd122a7f59"
      },
      "execution_count": 10,
      "outputs": [
        {
          "output_type": "stream",
          "name": "stdout",
          "text": [
            "now =  2022-09-29 15:33:50.150210\n"
          ]
        }
      ]
    }
  ]
}
